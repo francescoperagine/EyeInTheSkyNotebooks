{
  "cells": [
    {
      "cell_type": "markdown",
      "metadata": {
        "colab_type": "text",
        "id": "view-in-github"
      },
      "source": [
        "<a href=\"https://colab.research.google.com/github/francescoperagine/EyeInTheSkyNotebooks/blob/main/EyeInTheSky_VisDrone.ipynb\" target=\"_parent\"><img src=\"https://colab.research.google.com/assets/colab-badge.svg\" alt=\"Open In Colab\"/></a>"
      ]
    },
    {
      "cell_type": "code",
      "execution_count": null,
      "metadata": {
        "collapsed": true,
        "id": "JFSp9IV98xBU"
      },
      "outputs": [],
      "source": [
        "import locale\n",
        "locale.getpreferredencoding = lambda: \"UTF-8\"\n",
        "\n",
        "!pip install loguru==0.7.3 \\\n",
        "             tqdm==4.67.1 \\\n",
        "             typer==0.15.1 \\\n",
        "             ultralytics==8.3.68 \\\n",
        "             wandb==0.19.6"
      ]
    },
    {
      "cell_type": "code",
      "execution_count": null,
      "metadata": {
        "id": "TGW0ki2jBe62"
      },
      "outputs": [],
      "source": [
        "import torch\n",
        "from loguru import logger\n",
        "import wandb\n",
        "from google.colab import userdata\n",
        "from ultralytics import RTDETR, checks, settings\n",
        "import time\n",
        "from google.colab import files"
      ]
    },
    {
      "cell_type": "code",
      "execution_count": null,
      "metadata": {
        "id": "i9Tk6XQJ9NTr"
      },
      "outputs": [],
      "source": [
        "model_name = \"rtdetr-l.pt\"\n",
        "api_key = userdata.get(\"WANDB_APY_KEY\")\n",
        "\n",
        "project_name = \"EyeInTheSky\"\n",
        "experiment_name = \"RT-DETR_VisDrone\"\n",
        "dataset_name = \"VisDrone\""
      ]
    },
    {
      "cell_type": "code",
      "execution_count": null,
      "metadata": {
        "id": "tLuBXwA4CBU_"
      },
      "outputs": [],
      "source": [
        "try:\n",
        "    device =  0 if torch.cuda.is_available() else \"cpu\"\n",
        "except Exception as e:\n",
        "    print(f\"Error setting device: {e}\")\n",
        "print(f\"Device: {device}\")"
      ]
    },
    {
      "cell_type": "code",
      "execution_count": null,
      "metadata": {
        "id": "GlTswdJScMUm"
      },
      "outputs": [],
      "source": [
        "settings.update({\"wandb\": True})"
      ]
    },
    {
      "cell_type": "code",
      "execution_count": null,
      "metadata": {
        "id": "pTH6IzU2PZVS"
      },
      "outputs": [],
      "source": [
        "wandb.login(key=api_key)"
      ]
    },
    {
      "cell_type": "code",
      "execution_count": null,
      "metadata": {
        "id": "EUNWuXPKrhRx"
      },
      "outputs": [],
      "source": [
        "logger.info(\"Performing training for model...\")\n",
        "logger.info(checks())"
      ]
    },
    {
      "cell_type": "code",
      "execution_count": null,
      "metadata": {},
      "outputs": [],
      "source": [
        "model = RTDETR(model_name)"
      ]
    },
    {
      "cell_type": "code",
      "execution_count": null,
      "metadata": {},
      "outputs": [],
      "source": [
        "model.info()"
      ]
    },
    {
      "cell_type": "code",
      "execution_count": null,
      "metadata": {
        "colab": {
          "background_save": true
        },
        "id": "QFMsskZ19fil"
      },
      "outputs": [],
      "source": [
        "results = model.train(data=f\"{dataset_name}.yaml\",\n",
        "    workers=12,\n",
        "    amp=True,\n",
        "    batch=16,\n",
        "    epochs=100,\n",
        "    imgsz=640,\n",
        "    device=device,\n",
        "    patience=5,\n",
        "    project=project_name,\n",
        "    name=experiment_name,\n",
        "    seed=42,\n",
        "    plots=True,\n",
        "    val=True\n",
        "  )"
      ]
    },
    {
      "cell_type": "code",
      "execution_count": null,
      "metadata": {
        "id": "Gk7p4s0391cv"
      },
      "outputs": [],
      "source": [
        "timestamp = time.strftime(\"%Y%m%d_%H%M%S\")  # Get current time in YYYYMMDD_HHMMSS format\n",
        "zip_filename = f\"/content/{project_name}_{timestamp}.zip\"\n",
        "\n",
        "!zip -r \"$zip_filename\" /content/\"$project_name\""
      ]
    },
    {
      "cell_type": "code",
      "execution_count": null,
      "metadata": {
        "id": "vUOrGIl89x-k"
      },
      "outputs": [],
      "source": [
        "files.download(zip_filename)"
      ]
    }
  ],
  "metadata": {
    "accelerator": "GPU",
    "colab": {
      "authorship_tag": "ABX9TyMEecbs0Hkne8B8DF+J8eKY",
      "gpuType": "T4",
      "include_colab_link": true,
      "provenance": []
    },
    "kernelspec": {
      "display_name": "venv",
      "language": "python",
      "name": "python3"
    },
    "language_info": {
      "name": "python",
      "version": "3.10.0"
    }
  },
  "nbformat": 4,
  "nbformat_minor": 0
}
