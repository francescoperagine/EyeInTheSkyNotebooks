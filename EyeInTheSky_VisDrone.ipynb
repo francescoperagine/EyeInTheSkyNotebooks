{
  "cells": [
    {
      "cell_type": "markdown",
      "metadata": {
        "id": "view-in-github",
        "colab_type": "text"
      },
      "source": [
        "<a href=\"https://colab.research.google.com/github/francescoperagine/EyeInTheSkyNotebooks/blob/main/EyeInTheSky_VisDrone.ipynb\" target=\"_parent\"><img src=\"https://colab.research.google.com/assets/colab-badge.svg\" alt=\"Open In Colab\"/></a>"
      ]
    },
    {
      "cell_type": "code",
      "execution_count": null,
      "metadata": {
        "collapsed": true,
        "id": "JFSp9IV98xBU"
      },
      "outputs": [],
      "source": [
        "import locale\n",
        "locale.getpreferredencoding = lambda: \"UTF-8\"\n",
        "\n",
        "# Now install your packages\n",
        "!pip install loguru==0.7.3 \\\n",
        "             roboflow==1.1.53 \\\n",
        "             tqdm==4.67.1 \\\n",
        "             typer==0.15.1 \\\n",
        "             ultralytics==8.3.68 \\\n",
        "             wandb==0.19.6"
      ]
    },
    {
      "cell_type": "code",
      "execution_count": null,
      "metadata": {
        "id": "TGW0ki2jBe62"
      },
      "outputs": [],
      "source": [
        "from roboflow import Roboflow\n",
        "import torch\n",
        "from loguru import logger\n",
        "import wandb\n",
        "from google.colab import userdata\n",
        "from ultralytics import YOLO, checks, settings\n",
        "import time\n",
        "from google.colab import files"
      ]
    },
    {
      "cell_type": "code",
      "execution_count": null,
      "metadata": {
        "id": "i9Tk6XQJ9NTr"
      },
      "outputs": [],
      "source": [
        "model_name = userdata.get(\"MODEL_NAME\")\n",
        "api_key = userdata.get(\"WANDB_APY_KEY\")\n",
        "\n",
        "project_name = \"EyeInTheSky\"\n",
        "dataset = \"VisDrone\""
      ]
    },
    {
      "cell_type": "code",
      "source": [
        "settings.update({\"wandb\": True})"
      ],
      "metadata": {
        "id": "GlTswdJScMUm"
      },
      "execution_count": null,
      "outputs": []
    },
    {
      "cell_type": "code",
      "source": [
        "wandb.login(key=api_key)"
      ],
      "metadata": {
        "id": "pTH6IzU2PZVS"
      },
      "execution_count": null,
      "outputs": []
    },
    {
      "cell_type": "code",
      "execution_count": null,
      "metadata": {
        "id": "tLuBXwA4CBU_"
      },
      "outputs": [],
      "source": [
        "try:\n",
        "    device =  0 if torch.cuda.is_available() else \"cpu\"\n",
        "except Exception as e:\n",
        "    print(f\"Error setting device: {e}\")\n",
        "print(f\"Device: {device}\")"
      ]
    },
    {
      "cell_type": "code",
      "execution_count": null,
      "metadata": {
        "id": "QFMsskZ19fil"
      },
      "outputs": [],
      "source": [
        "model = YOLO(f\"{model_name}.pt\")\n",
        "results = model.train(data=f\"{dataset}.yaml\",\n",
        "    freeze=21,\n",
        "    amp=True,\n",
        "    epochs=100,\n",
        "    imgsz=640,\n",
        "    patience=5,\n",
        "    project=project_name,\n",
        "    name=dataset\n",
        "  )\n",
        "\n",
        "logger.info(\"Performing training for model...\")\n",
        "logger.info(checks())"
      ]
    },
    {
      "cell_type": "code",
      "source": [
        "print(results)"
      ],
      "metadata": {
        "id": "PXiPHbLnKrp_"
      },
      "execution_count": null,
      "outputs": []
    },
    {
      "cell_type": "code",
      "execution_count": null,
      "metadata": {
        "collapsed": true,
        "id": "CuPK3DHt9t1n"
      },
      "outputs": [],
      "source": [
        "# model = YOLO(f\"{model_name}.pt\")\n",
        "# results = model.train(data=f\"{dataset}.yaml\",\n",
        "#     freeze=22,\n",
        "#     amp=True,\n",
        "#     epochs=100,\n",
        "#     imgsz=640,\n",
        "#     patience=5,\n",
        "#     project=project_name,\n",
        "#     name=dataset\n",
        "#   )"
      ]
    },
    {
      "cell_type": "code",
      "source": [
        "metrics = model.val()"
      ],
      "metadata": {
        "id": "A_6pU2m9c018"
      },
      "execution_count": null,
      "outputs": []
    },
    {
      "cell_type": "code",
      "source": [
        "model_path = model.export()\n",
        "wandb.save(model_path)"
      ],
      "metadata": {
        "id": "A4vRvGYUc8_a"
      },
      "execution_count": null,
      "outputs": []
    },
    {
      "cell_type": "code",
      "execution_count": null,
      "metadata": {
        "id": "Gk7p4s0391cv"
      },
      "outputs": [],
      "source": [
        "timestamp = time.strftime(\"%Y%m%d_%H%M%S\")  # Get current time in YYYYMMDD_HHMMSS format\n",
        "zip_filename = f\"/content/{project_name}_runs_{timestamp}.zip\"\n",
        "\n",
        "!zip -r \"$zip_filename\" /content/\"$project_name\""
      ]
    },
    {
      "cell_type": "code",
      "execution_count": null,
      "metadata": {
        "id": "vUOrGIl89x-k"
      },
      "outputs": [],
      "source": [
        "files.download(zip_filename)"
      ]
    }
  ],
  "metadata": {
    "colab": {
      "provenance": [],
      "authorship_tag": "ABX9TyM57sSetGH/IhE7obntMTFK",
      "include_colab_link": true
    },
    "kernelspec": {
      "display_name": "Python 3",
      "name": "python3"
    },
    "language_info": {
      "name": "python"
    }
  },
  "nbformat": 4,
  "nbformat_minor": 0
}